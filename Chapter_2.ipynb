{
 "cells": [
  {
   "cell_type": "markdown",
   "metadata": {},
   "source": [
    "# Chapter 2: Statistical Learning"
   ]
  },
  {
   "cell_type": "code",
   "execution_count": 1,
   "metadata": {},
   "outputs": [],
   "source": [
    "# import packages\n",
    "import numpy as np\n",
    "import seaborn as sns\n",
    "import matplotlib.pyplot as plt\n",
    "from sklearn import linear_model\n",
    "from sklearn.metrics import mean_squared_error\n",
    "import pandas as pd\n",
    "iris_data = sns.load_dataset('iris')"
   ]
  },
  {
   "cell_type": "markdown",
   "metadata": {},
   "source": [
    "## Important Notations"
   ]
  },
  {
   "cell_type": "markdown",
   "metadata": {},
   "source": [
    "- n: # of samples\n",
    "- p: # of features/variables/covariates\n",
    "- $x_{ij}$: value of the jth feature and ith observation\n",
    "    - j = [1 -> p]\n",
    "    - i = [1 -> n]\n",
    "- X: nxp matrixwhose (i,j) element is $x_{ij}$\n",
    "- $x_i$: ith row of X: $(x_{i1} \\dots x_{ip})$\n",
    "- $\\vec{x}_j$: jth column of X: $(x_{1j} \\dots x_{nj})$\n",
    "- $y_i$: the reponse/outcome for the ith observation\n",
    "- $\\vec{y}$ = $(y_1 \\dots y_n)$\n",
    "- observed training data $(x_1,x_2, \\dots ,x_n,y_n)$\n",
    "- if p=1, then $x_i\\;\\epsilon\\;\\Re$\n",
    "    - $\\epsilon$ means \"is an element of\"\n",
    "    - $\\Re$ means \"dimensions\", in this case there is one\n",
    "- if p>1, then $x_i\\;\\epsilon\\;\\Re^p$\n",
    "- Vector: \n",
    "    - of length n: $\\vec{a}$\n",
    "    - not of length n: $a$\n",
    "- Matrix: **A**\n",
    "- Random variables: A or X\n",
    "- Scalars: $a\\;\\epsilon\\;\\Re^p$"
   ]
  },
  {
   "cell_type": "markdown",
   "metadata": {},
   "source": [
    "## How do we estimate f (function)?"
   ]
  },
  {
   "cell_type": "markdown",
   "metadata": {},
   "source": [
    "Our goal is to apply a statistical learning method to the training data\n",
    "in order to **estimate the unknown function f**. There are two types of methods: parametric and non-parametric methods."
   ]
  },
  {
   "cell_type": "markdown",
   "metadata": {},
   "source": [
    "### Parametric"
   ]
  },
  {
   "cell_type": "markdown",
   "metadata": {},
   "source": [
    "- Involves 2 steps:\n",
    "    1. Making an assumption about the shape/form of the unknown function. For example, we can assume the function will be linear: $f(x) = \\beta_0 + \\beta_1x_1 + ... + \\beta_px_p$\n",
    "    2. We now need to estimate the (p [# of predictors] + 1) coefficients/parameters $\\beta_0,\\beta_1,...,\\beta_p$\n",
    "- This whole process reduces the process of estimating the unknown f to just estimating the parameters given the assumption of the shape of the f.\n",
    "- Advantage:\n",
    "    - Interpretable\n",
    "    - Avoid overfitting\n",
    "    - Makes problem easier\n",
    "    - generally do better than non-parametric methods when there is a small # of observations per predictor (n/p)\n",
    "- Disadvantage:\n",
    "    - Model we choose may not reflect the true unknown shape of f, which leads to our estimates being poor.\n",
    "        - for this case, we can use a more flexible parametric model that can fit many different possible functional forms, which will lead to estimating even more parameters"
   ]
  },
  {
   "cell_type": "markdown",
   "metadata": {},
   "source": [
    "### Non-Parametric"
   ]
  },
  {
   "cell_type": "markdown",
   "metadata": {},
   "source": [
    "- Make no assumptions about f\n",
    "- Seek an estimate of f that gets as close as possible to the training data points without overfitting if possible\n",
    "- Advantages\n",
    "    - Unlike parametric that assumes a specific form of f, non-parametric fit according to the raw data\n",
    "- Disadvantages\n",
    "    - This approach can lead to overfitting, where the model follows the data points too closely.\n",
    "    - Need more observations compared to parametric to estimate f"
   ]
  },
  {
   "cell_type": "markdown",
   "metadata": {},
   "source": [
    "### Flexibility"
   ]
  },
  {
   "cell_type": "markdown",
   "metadata": {},
   "source": [
    "- flexibility refers to the models and # of features they use. More flexible models will use more features.\n",
    "- this is a characteritic of both parametric and non-parametric models...\n",
    "    - more flexible is more associated to non-parametric\n",
    "    - less flexible is more associated to parametric"
   ]
  },
  {
   "cell_type": "markdown",
   "metadata": {},
   "source": [
    "## Trade-Off Between Prediction Accuracy and Model Interpretability"
   ]
  },
  {
   "cell_type": "markdown",
   "metadata": {},
   "source": [
    "- When choosing parametric vs. non-parametric models, it's important to think about flexibility and interpretability\n",
    "    - high interpretability is associated with low *flexibility* in the model, such as linear regression.\n",
    "        - flexibility refers to the models and # of features they use. More flexible models will use more features.\n",
    "    - low interpretability means we cannot understand how a predictor is associated to the outcome because the model is complex.\n",
    "    - However, when only prediction is of interest, then it is fine to use more flexible model."
   ]
  },
  {
   "cell_type": "markdown",
   "metadata": {},
   "source": [
    "<img src=\"fig_2_0.png\" width=\"600\"/>"
   ]
  },
  {
   "cell_type": "markdown",
   "metadata": {},
   "source": [
    "Plot shows interpretability and flexibility of different models to build intuition of the characteristics of different models"
   ]
  },
  {
   "cell_type": "markdown",
   "metadata": {},
   "source": [
    "## Supervised vs. Unsupervised Learning"
   ]
  },
  {
   "cell_type": "markdown",
   "metadata": {},
   "source": [
    "### Supervised"
   ]
  },
  {
   "cell_type": "markdown",
   "metadata": {},
   "source": [
    "- Requires labels/outcomes to train the model\n",
    "- both parametric and non-parametric models can be used for supervised learning"
   ]
  },
  {
   "cell_type": "markdown",
   "metadata": {},
   "source": [
    "### Unsupervised"
   ]
  },
  {
   "cell_type": "markdown",
   "metadata": {},
   "source": [
    "- There is no label/outcome and you're using the observations to discover distinct groups. An example is cluster analysis"
   ]
  },
  {
   "cell_type": "markdown",
   "metadata": {},
   "source": [
    "## Regression vs. Classification Problems"
   ]
  },
  {
   "cell_type": "markdown",
   "metadata": {},
   "source": [
    "- Refer to problems with a **quantitative response** as **regression** problems \n",
    "- Problems involving **qualitative reponse** are referred to as **classification** problems.  "
   ]
  },
  {
   "cell_type": "markdown",
   "metadata": {},
   "source": [
    "## Assessing Model Accuracy"
   ]
  },
  {
   "cell_type": "markdown",
   "metadata": {},
   "source": [
    "### Measuring Quality of Fit"
   ]
  },
  {
   "cell_type": "markdown",
   "metadata": {},
   "source": [
    "- Quantify difference between the predicted response value and true response value for an observation.\n",
    "- In Regression, we use...\n",
    "    - Mean Squared Error (MSE) = $\\frac{1}{n}\\sum_{i=1}^{n}(y_i - \\hat{f}(x_i))^2$\n",
    "- In statistics, we built models based on training data and then we test on test data\n",
    "    - For example, let's say we have 3 models to model the following data:\n",
    "        - <img src=\"fig_2_2.png\" width=\"600\"/>\n",
    "        - On the left, we have the training data, with 3 types of models: linear (orange), blue and green curves were produced using smoothing splines.\n",
    "        - We see that the green curve follows the data very closely, which results in the lowest training error on the right graph, grey curve, while the other models have higher training errors.\n",
    "        - However, on the red curve, the green model has the 2nd highest test error while the blue has the lowest.\n",
    "    - This example illustrates 3 points:\n",
    "        1. In the training stage, models will work hard to model the data points\n",
    "            - In this case, the most flexible model will almost always have the lowest train error\n",
    "        2. For these flexible models, the test error will be high because they have overfit to the traning data.\n",
    "        3. To find the lowest test error, there is a balance of flexibility that's needed for the model which is based on bias and variance"
   ]
  },
  {
   "cell_type": "markdown",
   "metadata": {},
   "source": [
    "### Bias-Variance Trade-Off"
   ]
  },
  {
   "cell_type": "markdown",
   "metadata": {},
   "source": [
    "- The above example shows that the test error is the result of 3 fundamental quantities: the variance of the model, the squared bias of the model, and the variance of the error term $\\epsilon$:\n",
    "$$E(y_0 - \\hat{f}(x_0))^2 = Var(\\hat{f}(x_0) + Bias(\\hat{f}(x_0))^2 + Var(\\epsilon)$$\n",
    "    - This formula represents the **expected mean test error**, which is the test error for each test point, summed, and then divided by the total test points. \n",
    "    - Let's again consider the test error line in the **above example**:\n",
    "        1. the linear model has very high bias and low variance, but as you can see by the expected mean test error, bias is greater contributer to the error, so that is why the error for orange line is so large\n",
    "        2. As we move to the right and we observe more flexible models, the test error decreases until it reaches the second model with a mid-level bias and variance.\n",
    "        3. We move further along and now the test error increases and we reach the 3rd model (most flexible model) which has a very high variance, but low bias which leads to a high test error.\n",
    "    - <img src=\"fig_2_3.png\" width=\"300\"/>\n",
    "    - the above graph illustrates points 1-3\n",
    "    - **In conclusion, the model with low bias, variance, and test error is the one that generalizes to the shape of the test data well, rather than the actual data points.**\n",
    "- Terms:\n",
    "    - Variance\n",
    "        - **amount by which the model would change** if we estimate using a different dataset\n",
    "        - what this means is how much will the model change when we train it on a different training set. Any small changes to the data will result in a drastic change to the model\n",
    "        - in general, more flexible models have higher variance since they fit more closely to the training data vs. inflexible models.\n",
    "        - Any changes in the data will only slightly change the inflexible model (eg. linear regression).\n",
    "    - Bias\n",
    "        - error that is introduced by approximating a real-life problem, which may be really complicated, by using a simple model.\n",
    "        - for example, assuming f is linear when it's actually not\n",
    "        - more flexible models with have lower bias, since they don't assume as much as inflexible models"
   ]
  },
  {
   "cell_type": "markdown",
   "metadata": {},
   "source": [
    "#### Testing Bias-Variance Trade-Off"
   ]
  },
  {
   "cell_type": "code",
   "execution_count": 2,
   "metadata": {},
   "outputs": [
    {
     "data": {
      "image/png": "[encoded data removed]",
      "text/plain": [
       "<matplotlib.figure.Figure at 0x1a0a0b3d30>"
      ]
     },
     "metadata": {},
     "output_type": "display_data"
    }
   ],
   "source": [
    "# set seed\n",
    "np.random.seed(7)\n",
    "\n",
    "# create dataset\n",
    "y = np.random.normal(size=100).reshape(-1, 1)\n",
    "x = np.random.normal(size=100).reshape(-1, 1)\n",
    "\n",
    "# plot training data\n",
    "plt.scatter(x,y,alpha=0.9)\n",
    "plt.xlabel(\"X\")\n",
    "plt.ylabel(\"Y\")\n",
    "plt.title('Plot of Training Data')\n",
    "plt.show()"
   ]
  },
  {
   "cell_type": "code",
   "execution_count": 3,
   "metadata": {},
   "outputs": [
    {
     "data": {
      "image/png": "[encoded data removed]",
      "text/plain": [
       "<matplotlib.figure.Figure at 0x1a123934e0>"
      ]
     },
     "metadata": {},
     "output_type": "display_data"
    }
   ],
   "source": [
    "# simple linear regression\n",
    "simple = linear_model.LinearRegression()\n",
    "simple.fit(x,y)\n",
    "# quadratic linear regression\n",
    "x_quad = np.append(x, x**2, 1)\n",
    "quad = linear_model.LinearRegression()\n",
    "quad.fit(x_quad,y)\n",
    "# cubic linear regression\n",
    "x_cubic = np.append(x_quad, x**3, 1)\n",
    "cubic = linear_model.LinearRegression()\n",
    "cubic.fit(x_cubic,y)\n",
    "\n",
    "# calculate training MSE for each model. Expect cubic to give lowest\n",
    "## simple\n",
    "train_simple_preds = simple.predict(x)\n",
    "train_simple_mse = mean_squared_error(y, train_simple_preds)\n",
    "## quad\n",
    "train_quad_preds = quad.predict(x_quad)\n",
    "train_quad_mse = mean_squared_error(y, train_quad_preds)\n",
    "## cubic\n",
    "train_cubic_preds = cubic.predict(x_cubic)\n",
    "train_cubic_mse = mean_squared_error(y, train_cubic_preds)\n",
    "\n",
    "# add each model to the training data plot\n",
    "plt.scatter(x,y,alpha=0.9)\n",
    "plt.xlabel(\"X\")\n",
    "plt.ylabel(\"Y\")\n",
    "plt.title('Plot of Training Data')\n",
    "plt.plot(x, train_simple_preds, color='green', linewidth=0.5)\n",
    "plt.plot(x, train_quad_preds, color='red', linewidth=0.5)\n",
    "plt.plot(x, train_cubic_preds, color='black', linewidth=0.5)\n",
    "plt.show()"
   ]
  },
  {
   "cell_type": "code",
   "execution_count": 4,
   "metadata": {},
   "outputs": [
    {
     "data": {
      "image/png": "[encoded data removed]",
      "text/plain": [
       "<matplotlib.figure.Figure at 0x1a12393ba8>"
      ]
     },
     "metadata": {},
     "output_type": "display_data"
    }
   ],
   "source": [
    "# calculate test MSE for each model\n",
    "## create test dataset\n",
    "np.random.seed(50000)\n",
    "y = np.random.normal(size=100).reshape(-1, 1)\n",
    "x = np.random.normal(size=100).reshape(-1, 1)\n",
    "\n",
    "\n",
    "x_quad = np.append(x, x**2, 1)\n",
    "x_cubic = np.append(x_quad, x**3, 1)\n",
    "## test\n",
    "### simple\n",
    "test_simple_preds = simple.predict(x)\n",
    "test_simple_mse = mean_squared_error(y, test_simple_preds)\n",
    "### quad\n",
    "test_quad_preds = quad.predict(x_quad)\n",
    "test_quad_mse = mean_squared_error(y, test_quad_preds)\n",
    "### cubic\n",
    "test_cubic_preds = cubic.predict(x_cubic)\n",
    "test_cubic_mse = mean_squared_error(y, test_cubic_preds)\n",
    "\n",
    "# add each model to the test data plot\n",
    "plt.scatter(x,y,alpha=0.9)\n",
    "plt.xlabel(\"X\")\n",
    "plt.ylabel(\"Y\")\n",
    "plt.title('Plot of Test Data')\n",
    "plt.plot(x, test_simple_preds, color='green', linewidth=0.5)\n",
    "plt.plot(x, test_quad_preds, color='red', linewidth=0.5)\n",
    "plt.plot(x, test_cubic_preds, color='black', linewidth=0.5)\n",
    "plt.show()"
   ]
  },
  {
   "cell_type": "code",
   "execution_count": 5,
   "metadata": {},
   "outputs": [
    {
     "data": {
      "text/html": [
       "<div>\n",
       "<style scoped>\n",
       "    .dataframe tbody tr th:only-of-type {\n",
       "        vertical-align: middle;\n",
       "    }\n",
       "\n",
       "    .dataframe tbody tr th {\n",
       "        vertical-align: top;\n",
       "    }\n",
       "\n",
       "    .dataframe thead th {\n",
       "        text-align: right;\n",
       "    }\n",
       "</style>\n",
       "<table border=\"1\" class=\"dataframe\">\n",
       "  <thead>\n",
       "    <tr style=\"text-align: right;\">\n",
       "      <th></th>\n",
       "      <th>Model</th>\n",
       "      <th>Error_Value</th>\n",
       "      <th>Error_Type</th>\n",
       "    </tr>\n",
       "  </thead>\n",
       "  <tbody>\n",
       "    <tr>\n",
       "      <th>0</th>\n",
       "      <td>Simple</td>\n",
       "      <td>1.030703</td>\n",
       "      <td>Train</td>\n",
       "    </tr>\n",
       "    <tr>\n",
       "      <th>1</th>\n",
       "      <td>Simple</td>\n",
       "      <td>1.085443</td>\n",
       "      <td>Test</td>\n",
       "    </tr>\n",
       "    <tr>\n",
       "      <th>2</th>\n",
       "      <td>Quad</td>\n",
       "      <td>1.030262</td>\n",
       "      <td>Train</td>\n",
       "    </tr>\n",
       "    <tr>\n",
       "      <th>3</th>\n",
       "      <td>Quad</td>\n",
       "      <td>1.090650</td>\n",
       "      <td>Test</td>\n",
       "    </tr>\n",
       "    <tr>\n",
       "      <th>4</th>\n",
       "      <td>Cubic</td>\n",
       "      <td>1.030220</td>\n",
       "      <td>Train</td>\n",
       "    </tr>\n",
       "    <tr>\n",
       "      <th>5</th>\n",
       "      <td>Cubic</td>\n",
       "      <td>1.093051</td>\n",
       "      <td>Test</td>\n",
       "    </tr>\n",
       "  </tbody>\n",
       "</table>\n",
       "</div>"
      ],
      "text/plain": [
       "    Model  Error_Value Error_Type\n",
       "0  Simple     1.030703      Train\n",
       "1  Simple     1.085443       Test\n",
       "2    Quad     1.030262      Train\n",
       "3    Quad     1.090650       Test\n",
       "4   Cubic     1.030220      Train\n",
       "5   Cubic     1.093051       Test"
      ]
     },
     "execution_count": 5,
     "metadata": {},
     "output_type": "execute_result"
    }
   ],
   "source": [
    "# create dataframe for plotting\n",
    "data = [[\"Simple\",train_simple_mse,\"Train\"],\n",
    "        [\"Simple\",test_simple_mse,\"Test\"],\n",
    "        [\"Quad\",train_quad_mse,\"Train\"],\n",
    "        [\"Quad\",test_quad_mse,\"Test\"],\n",
    "        [\"Cubic\",train_cubic_mse,\"Train\"],\n",
    "        [\"Cubic\",test_cubic_mse,\"Test\"]]\n",
    "df = pd.DataFrame(data,columns=[\"Model\",\"Error_Value\",\"Error_Type\"],dtype=float)\n",
    "df"
   ]
  },
  {
   "cell_type": "code",
   "execution_count": 6,
   "metadata": {},
   "outputs": [
    {
     "data": {
      "image/png": "[encoded data removed]",
      "text/plain": [
       "<matplotlib.figure.Figure at 0x1a0a0b3ba8>"
      ]
     },
     "metadata": {},
     "output_type": "display_data"
    }
   ],
   "source": [
    "# plot\n",
    "plot = sns.pointplot(x=\"Model\", y=\"Error_Value\", hue=\"Error_Type\", data=df)"
   ]
  },
  {
   "cell_type": "markdown",
   "metadata": {},
   "source": [
    "- Interpreting Results\n",
    "    - As you can see, the cubic model gave the lowest train error, because it followed the training data closely. \n",
    "    - However, the simple model gave the lowest test error. \n",
    "    - This shows that the general shape of the data is linear, which means the simple model generalizes to the test data better than others.\n",
    "    - This means the simple model has a low variance and bias which leads to a low test error compared to the other models.\n",
    "- Building off Results\n",
    "    - If the true relationship was quadratic instead, then the simple would have a higher bias which would increase the test error.\n",
    "    - It would be the quadratic model that would have the lowest test error, because it would have the lowest bias and variance\n",
    "    - **Again, test error really tests which model fits the shape of the data better by measuring each models' variance and bias**"
   ]
  },
  {
   "cell_type": "markdown",
   "metadata": {},
   "source": [
    "## Classification Setting"
   ]
  },
  {
   "cell_type": "markdown",
   "metadata": {},
   "source": [
    "For classification, we can test for accuracy by using the following formula:\n",
    "$$\\frac{1}{n}\\sum_{i=1}^{n}(y_0 != \\hat{y}_0)$$"
   ]
  },
  {
   "cell_type": "markdown",
   "metadata": {},
   "source": [
    "### Bayes Classifier"
   ]
  },
  {
   "cell_type": "markdown",
   "metadata": {},
   "source": [
    " - Assigns each observation to the most likely class, given its predictor values:\n",
    " $$Pr(Y=j|X=x_0)$$\n",
    " - Classifier classifies to the class where the value for above formula is largest.\n",
    " - Bayes Error Rate: lowest possible test error:\n",
    " $$1 - E(maxPr(Y=j|X))$$\n",
    " - E() represents the probability for an instance to belong to class at each set of observation values that belong to the class j then takes the average."
   ]
  },
  {
   "cell_type": "markdown",
   "metadata": {},
   "source": [
    "### K-Nearest Neighbors (KNN)"
   ]
  },
  {
   "cell_type": "markdown",
   "metadata": {},
   "source": [
    "- For each data point, KNN identifies classes of neighboring points (example below) and assign that unknown point with the majority class. If there is a tie, KNN will randomly assign.\n",
    "- K represents the # of neighbors to look at.\n",
    "- Must use all of training data and predict on 1 test point at a time."
   ]
  },
  {
   "cell_type": "code",
   "execution_count": 8,
   "metadata": {},
   "outputs": [
    {
     "data": {
      "text/plain": [
       "<seaborn.axisgrid.FacetGrid at 0x1a0a0b3400>"
      ]
     },
     "execution_count": 8,
     "metadata": {},
     "output_type": "execute_result"
    },
    {
     "data": {
      "image/png": "[encoded data removed]",
      "text/plain": [
       "<matplotlib.figure.Figure at 0x1a0a0b3860>"
      ]
     },
     "metadata": {},
     "output_type": "display_data"
    }
   ],
   "source": [
    "# get species\n",
    "species = iris_data.loc[:,\"species\"].drop_duplicates()[0:2]\n",
    "# subset data for 2 classes\n",
    "df_subset = iris_data.loc[iris_data.species.isin(species),:]\n",
    "# Use the 'hue' argument to provide a factor variable\n",
    "sns.lmplot( x=\"sepal_length\", y=\"sepal_width\", data=df_subset, fit_reg=False, hue='species', legend=True)"
   ]
  },
  {
   "cell_type": "markdown",
   "metadata": {},
   "source": [
    "- if K = n, then you'll always predict the class with the most training data regardless of X\n",
    "    - this makes KNN less flexible which leads to *high bias* and *low variance*\n",
    "- if K = 1, then you classify based on the nearest point\n",
    "    - this makes KNN more flexible which leads to *low bias* (make no assumptions about the data) and *high variance* (model will change with new dataset)"
   ]
  },
  {
   "cell_type": "markdown",
   "metadata": {},
   "source": [
    "<img src=\"fig_2_1.png\" alt=\"Drawing\" width=\"600\"/>"
   ]
  },
  {
   "cell_type": "markdown",
   "metadata": {},
   "source": [
    "Plot shows the train and test error at different k values (x-axis). Illustrates the point that to minimize the test error, you need balance of flexibility. The black dashed line indicates the Bayes error rate."
   ]
  }
 ],
 "metadata": {
  "kernelspec": {
   "display_name": "Python 3",
   "language": "python",
   "name": "python3"
  },
  "language_info": {
   "codemirror_mode": {
    "name": "ipython",
    "version": 3
   },
   "file_extension": ".py",
   "mimetype": "text/x-python",
   "name": "python",
   "nbconvert_exporter": "python",
   "pygments_lexer": "ipython3",
   "version": "3.6.4"
  }
 },
 "nbformat": 4,
 "nbformat_minor": 2
}
